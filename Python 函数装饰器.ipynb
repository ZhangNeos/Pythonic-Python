{
 "cells": [
  {
   "cell_type": "markdown",
   "metadata": {},
   "source": [
    "# 一切皆对象"
   ]
  },
  {
   "cell_type": "code",
   "execution_count": 5,
   "metadata": {},
   "outputs": [
    {
     "name": "stdout",
     "output_type": "stream",
     "text": [
      "hiyasoob\n"
     ]
    }
   ],
   "source": [
    "def hi(name='yasoob'):\n",
    "    return 'hi'+ name\n",
    "print(hi()) "
   ]
  },
  {
   "cell_type": "code",
   "execution_count": 6,
   "metadata": {},
   "outputs": [
    {
     "name": "stdout",
     "output_type": "stream",
     "text": [
      "hiyasoob\n"
     ]
    }
   ],
   "source": [
    "# 将hi函数赋值给一个变量\n",
    "greet = hi # 这里hi函数后不能添加小括号，因为我们并不是在调用hi函数\n",
    "print(greet())"
   ]
  },
  {
   "cell_type": "code",
   "execution_count": 7,
   "metadata": {},
   "outputs": [
    {
     "name": "stdout",
     "output_type": "stream",
     "text": [
      "hiyasoob\n"
     ]
    }
   ],
   "source": [
    "# 如果我们删除旧的hi函数\n",
    "del hi\n",
    "# print(hi())\n",
    "\n",
    "# NameError: name 'hi' is not defined\n",
    "print(greet())"
   ]
  },
  {
   "cell_type": "markdown",
   "metadata": {},
   "source": [
    "# 更进一步， 在函数中定义函数"
   ]
  },
  {
   "cell_type": "code",
   "execution_count": 12,
   "metadata": {},
   "outputs": [
    {
     "name": "stdout",
     "output_type": "stream",
     "text": [
      "now you are inside the hi() function\n",
      "now you are inside the greet() function\n",
      "now you are inside the welcome() functin\n",
      "now you are back in the hi() function\n"
     ]
    }
   ],
   "source": [
    "def hi(name='yasoob'):\n",
    "    print('now you are inside the hi() function')\n",
    "    \n",
    "    def greet():\n",
    "        return 'now you are inside the greet() function'\n",
    "    def welcome():\n",
    "        return 'now you are inside the welcome() functin'\n",
    "    \n",
    "    print(greet())\n",
    "    print(welcome())\n",
    "    print('now you are back in the hi() function')\n",
    "    \n",
    "hi()\n",
    "\n",
    "# 该例子展示了无论何时你调用hi(),greet()和welcome()将会被同时调用\n",
    "# 但greet()和welcome()函数在hi()函数之外是不能被访问的"
   ]
  },
  {
   "cell_type": "markdown",
   "metadata": {},
   "source": [
    "# 从函数中返回函数"
   ]
  },
  {
   "cell_type": "code",
   "execution_count": 14,
   "metadata": {},
   "outputs": [
    {
     "name": "stdout",
     "output_type": "stream",
     "text": [
      "<function hi.<locals>.greet at 0x000001E8C42372F0>\n",
      "now you are in the greet() function\n"
     ]
    }
   ],
   "source": [
    "# 不需要在一个函数中执行另一个函数，也可以将其作为输出返回\n",
    "def hi(name='yasoob'):\n",
    "    def greet():\n",
    "        return 'now you are in the greet() function'\n",
    "    \n",
    "    def welcome():\n",
    "        return 'now you are in the welcome() function'\n",
    "    if name == 'yasoob':\n",
    "        return greet\n",
    "    else:\n",
    "        return welcome\n",
    "a = hi()\n",
    "print(a) # 现在a指向了hi()函数中的greet()函数\n",
    "print(a())"
   ]
  },
  {
   "cell_type": "markdown",
   "metadata": {},
   "source": [
    "# 将函数作为参数传给另一个函数"
   ]
  },
  {
   "cell_type": "code",
   "execution_count": 17,
   "metadata": {},
   "outputs": [
    {
     "name": "stdout",
     "output_type": "stream",
     "text": [
      "I am doing some boring work before executing hi()\n",
      "hi yasoob!\n"
     ]
    }
   ],
   "source": [
    "def hi():\n",
    "    return 'hi yasoob!'\n",
    "\n",
    "# 传入一个函数作为参数，并且这个函数在doSomethingBeforeHi内部被执行\n",
    "def doSomethingBeforeHi(func): \n",
    "    print('I am doing some boring work before executing hi()' )\n",
    "    print(func())\n",
    "    \n",
    "doSomethingBeforeHi(hi)"
   ]
  },
  {
   "cell_type": "markdown",
   "metadata": {},
   "source": [
    "# 第一个装饰器"
   ]
  },
  {
   "cell_type": "code",
   "execution_count": 21,
   "metadata": {},
   "outputs": [
    {
     "name": "stdout",
     "output_type": "stream",
     "text": [
      "I am doing some boring work before executing a_func()\n",
      "I am the function which needs some decoration to remove my foul smell\n",
      "I am doing some boring work after executing a_func()\n"
     ]
    }
   ],
   "source": [
    "# Python中装饰器封装一个函数并修改它的行为\n",
    "\n",
    "def a_new_decorator(a_func):\n",
    "    def warpTheFunction():\n",
    "        print('I am doing some boring work before executing a_func()')\n",
    "        \n",
    "        a_func()\n",
    "        \n",
    "        print('I am doing some boring work after executing a_func()')\n",
    "    return warpTheFunction\n",
    "\n",
    "def a_function_requiring_decoration():\n",
    "    print('I am the function which needs some decoration to remove my foul smell')\n",
    "\n",
    "# now a_function_requiring_decoration is wrapped by wrapTheFunction\n",
    "a_function_requiring_decoration = a_new_decorator(a_function_requiring_decoration) \n",
    "a_function_requiring_decoration()"
   ]
  },
  {
   "cell_type": "markdown",
   "metadata": {},
   "source": [
    "# 使用@语法糖"
   ]
  },
  {
   "cell_type": "code",
   "execution_count": 23,
   "metadata": {},
   "outputs": [
    {
     "name": "stdout",
     "output_type": "stream",
     "text": [
      "I am doing some boring work before executing a_func()\n",
      "I am the function which needs some decoration to remove my foul smell\n",
      "I am doing some boring work after executing a_func()\n"
     ]
    }
   ],
   "source": [
    "# the @a_new_decorator is just a short way of saying:\n",
    "# a_function_requiring_decoration = a_new_decorator(a_function_requiring_decoration)\n",
    "\n",
    "@a_new_decorator\n",
    "def a_function_requiring_decoration():\n",
    "    '''Hey you! Decorate me!'''\n",
    "    print('I am the function which needs some decoration to remove my foul smell.')\n",
    "a_function_requiring_decoration()"
   ]
  },
  {
   "cell_type": "markdown",
   "metadata": {},
   "source": [
    "# 关于函数名和注释文档"
   ]
  },
  {
   "cell_type": "code",
   "execution_count": 28,
   "metadata": {},
   "outputs": [
    {
     "name": "stdout",
     "output_type": "stream",
     "text": [
      "warpTheFunction\n",
      "None\n"
     ]
    }
   ],
   "source": [
    "# 由于a_function_requiring_decoration = a_new_decorator(a_function_requiring_decoration)\n",
    "# a_function_requiring_decoration的函数名和注释文档被重写\n",
    "\n",
    "print(a_function_requiring_decoration.__name__) # 期望的输出是a_function_requiring_decoration\n",
    "print(a_function_requiring_decoration.__doc__)"
   ]
  },
  {
   "cell_type": "code",
   "execution_count": 32,
   "metadata": {},
   "outputs": [
    {
     "name": "stdout",
     "output_type": "stream",
     "text": [
      "a_function_requiring_decoration\n",
      "Hey you! Decorate me!\n"
     ]
    }
   ],
   "source": [
    "# 可以使用Python的functools.wraps\n",
    "# @wraps接受一个函数来进行装饰，并加入了复制函数名称、注释文档、参数列表等等的功能。\n",
    "# 这可以让我们在装饰器里面访问在装饰之前的函数的属性。\n",
    "\n",
    "from functools import wraps\n",
    "\n",
    "def a_new_decorator(a_func):\n",
    "    @wraps(a_func)\n",
    "    def wrapTheFunction():\n",
    "        print('I am doing some boring work before executing a_func()')\n",
    "        a_func()\n",
    "        print('I am doing some boring work after executing a_func()')\n",
    "    return wrapTheFunction\n",
    "\n",
    "@a_new_decorator\n",
    "def a_function_requiring_decoration():\n",
    "    \"\"\"Hey you! Decorate me!\"\"\"\n",
    "    print(\"I am the function which needs some decoration to \"\n",
    "          \"remove my foul smell\")\n",
    " \n",
    "print(a_function_requiring_decoration.__name__)\n",
    "print(a_function_requiring_decoration.__doc__)"
   ]
  },
  {
   "cell_type": "markdown",
   "metadata": {},
   "source": [
    "# 装饰器的使用场景"
   ]
  },
  {
   "cell_type": "code",
   "execution_count": 33,
   "metadata": {},
   "outputs": [],
   "source": [
    "# 授权(Authorization)\n",
    "\n",
    "# 装饰器能有助于检查某个人是否被授权去使用一个web应用的端点(endpoint)\n",
    "# 它们被大量使用于Flask和Django web框架中\n",
    "\n",
    "from functools import wraps\n",
    " \n",
    "def requires_auth(f):\n",
    "    @wraps(f)\n",
    "    def decorated(*args, **kwargs):\n",
    "        auth = request.authorization\n",
    "        if not auth or not check_auth(auth.username, auth.password):\n",
    "            authenticate()\n",
    "        return f(*args, **kwargs)\n",
    "    return decorated"
   ]
  },
  {
   "cell_type": "code",
   "execution_count": 34,
   "metadata": {},
   "outputs": [
    {
     "name": "stdout",
     "output_type": "stream",
     "text": [
      "addition_func was called\n"
     ]
    }
   ],
   "source": [
    "# 日志 Logging\n",
    "\n",
    "from functools import wraps\n",
    " \n",
    "def logit(func):\n",
    "    @wraps(func)\n",
    "    def with_logging(*args, **kwargs):\n",
    "        print(func.__name__ + \" was called\")\n",
    "        return func(*args, **kwargs)\n",
    "    return with_logging\n",
    " \n",
    "@logit\n",
    "def addition_func(x):\n",
    "   \"\"\"Do some math.\"\"\"\n",
    "   return x + x\n",
    " \n",
    " \n",
    "result = addition_func(4)\n",
    "# Output: addition_func was called"
   ]
  },
  {
   "cell_type": "markdown",
   "metadata": {},
   "source": [
    "# 带参数的装饰器"
   ]
  },
  {
   "cell_type": "code",
   "execution_count": null,
   "metadata": {},
   "outputs": [],
   "source": [
    "from functools import wraps\n",
    " \n",
    "def logit(logfile='out.log'):\n",
    "    def logging_decorator(func):\n",
    "        @wraps(func)\n",
    "        def wrapped_function(*args, **kwargs):\n",
    "            log_string = func.__name__ + \" was called\"\n",
    "            print(log_string)\n",
    "            # 打开logfile，并写入内容\n",
    "            with open(logfile, 'a') as opened_file:\n",
    "                # 现在将日志打到指定的logfile\n",
    "                opened_file.write(log_string + '\\n')\n",
    "            return func(*args, **kwargs)\n",
    "        return wrapped_function\n",
    "    return logging_decorator\n",
    " \n",
    "@logit()\n",
    "def myfunc1():\n",
    "    pass\n",
    " \n",
    "myfunc1()\n",
    "# Output: myfunc1 was called\n",
    "# 现在一个叫做 out.log 的文件出现了，里面的内容就是上面的字符串\n",
    " \n",
    "@logit(logfile='func2.log')\n",
    "def myfunc2():\n",
    "    pass\n",
    " \n",
    "myfunc2()\n",
    "# Output: myfunc2 was called"
   ]
  }
 ],
 "metadata": {
  "kernelspec": {
   "display_name": "Python 3",
   "language": "python",
   "name": "python3"
  },
  "language_info": {
   "codemirror_mode": {
    "name": "ipython",
    "version": 3
   },
   "file_extension": ".py",
   "mimetype": "text/x-python",
   "name": "python",
   "nbconvert_exporter": "python",
   "pygments_lexer": "ipython3",
   "version": "3.7.1"
  }
 },
 "nbformat": 4,
 "nbformat_minor": 2
}
